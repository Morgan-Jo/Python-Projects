{
 "cells": [
  {
   "cell_type": "code",
   "execution_count": 1,
   "id": "66551b6b-ec6e-4dc7-b8d3-e4bc66bf17ee",
   "metadata": {},
   "outputs": [],
   "source": [
    "# Advanced Calculator that includes basic arithmetic operations, trigonometric functions, logarithmic functions,exponentiation,\n",
    "# square roots, and factorial. It also handles user input in a loop for continuous use"
   ]
  },
  {
   "cell_type": "code",
   "execution_count": 2,
   "id": "2ec294b4-59b9-449e-85bd-752592bdb8cf",
   "metadata": {},
   "outputs": [],
   "source": [
    "import math\n",
    "\n",
    "def add(x, y): return x + y\n",
    "def subtract(x, y): return x - y\n",
    "def multiply(x, y): return x * y\n",
    "def divide(x, y): return x / y if y != 0 else \"Error: Division by zero\"\n",
    "def power(x, y): return x ** y\n",
    "def sqrt(x): return math.sqrt(x)\n",
    "def factorial(x): return math.factorial(int(x)) if x >= 0 else \"Error: Negative factorial\"\n",
    "def log(x, base=10): return math.log(x, base)\n",
    "def sin(x): return math.sin(math.radians(x))\n",
    "def cos(x): return math.cos(math.radians(x))\n",
    "def tan(x): return math.tan(math.radians(x))"
   ]
  },
  {
   "cell_type": "code",
   "execution_count": null,
   "id": "aeb375bc-0fb4-41f9-8692-bc7c5f4f811d",
   "metadata": {},
   "outputs": [
    {
     "name": "stdout",
     "output_type": "stream",
     "text": [
      "Advanced Calculator\n",
      "Available operations:\n",
      "add, subtract, multiply, divide, power, sqrt, factorial, log, sin, cos, tan, exit\n"
     ]
    },
    {
     "name": "stdin",
     "output_type": "stream",
     "text": [
      "\n",
      "Enter operation:  sqrt\n",
      "Enter number:  125\n"
     ]
    },
    {
     "name": "stdout",
     "output_type": "stream",
     "text": [
      "Result: 11.180339887498949\n"
     ]
    },
    {
     "name": "stdin",
     "output_type": "stream",
     "text": [
      "\n",
      "Enter operation:  sin\n",
      "Enter angle in degrees:  45\n"
     ]
    },
    {
     "name": "stdout",
     "output_type": "stream",
     "text": [
      "Result: 0.7071067811865476\n"
     ]
    },
    {
     "name": "stdin",
     "output_type": "stream",
     "text": [
      "\n",
      "Enter operation:  power\n",
      "Enter first number:  8\n",
      "Enter second number:  4\n"
     ]
    },
    {
     "name": "stdout",
     "output_type": "stream",
     "text": [
      "Result: 4096.0\n"
     ]
    }
   ],
   "source": [
    "def advanced_calculator():\n",
    "    print(\"Advanced Calculator\")\n",
    "    print(\"Available operations:\")\n",
    "    print(\"add, subtract, multiply, divide, power, sqrt, factorial, log, sin, cos, tan, exit\")\n",
    "\n",
    "    while True:\n",
    "        operation = input(\"\\nEnter operation: \").strip().lower()\n",
    "        \n",
    "        if operation == \"exit\":\n",
    "            print(\"Goodbye!\")\n",
    "            break\n",
    "        \n",
    "        try:\n",
    "            if operation in (\"add\", \"subtract\", \"multiply\", \"divide\", \"power\"):\n",
    "                x = float(input(\"Enter first number: \"))\n",
    "                y = float(input(\"Enter second number: \"))\n",
    "                result = eval(f\"{operation}(x, y)\")\n",
    "            \n",
    "            elif operation == \"sqrt\":\n",
    "                x = float(input(\"Enter number: \"))\n",
    "                result = sqrt(x)\n",
    "            \n",
    "            elif operation == \"factorial\":\n",
    "                x = float(input(\"Enter non-negative integer: \"))\n",
    "                result = factorial(x)\n",
    "            \n",
    "            elif operation == \"log\":\n",
    "                x = float(input(\"Enter number: \"))\n",
    "                base = input(\"Enter base (press enter for default base 10): \")\n",
    "                base = float(base) if base else 10\n",
    "                result = log(x, base)\n",
    "            \n",
    "            elif operation in (\"sin\", \"cos\", \"tan\"):\n",
    "                x = float(input(\"Enter angle in degrees: \"))\n",
    "                result = eval(f\"{operation}(x)\")\n",
    "            \n",
    "            else:\n",
    "                print(\"Invalid operation.\")\n",
    "                continue\n",
    "\n",
    "            print(\"Result:\", result)\n",
    "\n",
    "        except Exception as e:\n",
    "            print(\"Error:\", e)\n",
    "\n",
    "if __name__ == \"__main__\":\n",
    "    advanced_calculator()\n"
   ]
  },
  {
   "cell_type": "code",
   "execution_count": null,
   "id": "c7467dde-3940-4322-9c41-81ae13aa9a7a",
   "metadata": {},
   "outputs": [],
   "source": []
  }
 ],
 "metadata": {
  "kernelspec": {
   "display_name": "Python 3 (ipykernel)",
   "language": "python",
   "name": "python3"
  },
  "language_info": {
   "codemirror_mode": {
    "name": "ipython",
    "version": 3
   },
   "file_extension": ".py",
   "mimetype": "text/x-python",
   "name": "python",
   "nbconvert_exporter": "python",
   "pygments_lexer": "ipython3",
   "version": "3.12.7"
  }
 },
 "nbformat": 4,
 "nbformat_minor": 5
}
