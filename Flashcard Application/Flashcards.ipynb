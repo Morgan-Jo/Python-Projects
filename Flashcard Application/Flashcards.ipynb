{
 "cells": [
  {
   "cell_type": "code",
   "execution_count": 1,
   "id": "d1d83e11-96ee-47c8-abee-b1ca89375f6a",
   "metadata": {},
   "outputs": [],
   "source": [
    "# Create a program that allows users to create and study flashcards for different subjects."
   ]
  },
  {
   "cell_type": "code",
   "execution_count": 2,
   "id": "5c51fe1c-4e8c-47a5-9948-fb5c599d5a72",
   "metadata": {},
   "outputs": [],
   "source": [
    "import json\n",
    "import random\n",
    "import os"
   ]
  },
  {
   "cell_type": "code",
   "execution_count": 3,
   "id": "fc2be35f-0701-419d-89cb-dd0462e98097",
   "metadata": {},
   "outputs": [],
   "source": [
    "FLASHCARD_FILE = \"flashcards.json\"\n",
    "\n",
    "def load_flashcards():\n",
    "    if os.path.exists(FLASHCARD_FILE):\n",
    "        with open(FLASHCARD_FILE, \"r\") as f:\n",
    "            return json.load(f)\n",
    "    return {}"
   ]
  },
  {
   "cell_type": "code",
   "execution_count": 4,
   "id": "9e5fffaa-cc4c-4148-b5b8-18dd7bcae1e7",
   "metadata": {},
   "outputs": [],
   "source": [
    "def save_flashcards(flashcards):\n",
    "    with open(FLASHCARD_FILE, \"w\") as f:\n",
    "        json.dump(flashcards, f, indent=4)\n",
    "\n",
    "def create_subject(flashcards):\n",
    "    subject = input(\"Enter new subject name: \").strip()\n",
    "    if subject in flashcards:\n",
    "        print(\"Subject already exists.\")\n",
    "    else:\n",
    "        flashcards[subject] = []\n",
    "        print(f\"Subject '{subject}' created.\")"
   ]
  },
  {
   "cell_type": "code",
   "execution_count": 5,
   "id": "eff583dc-bc09-461d-bd49-c66d3d61dbe2",
   "metadata": {},
   "outputs": [],
   "source": [
    "def add_flashcard(flashcards):\n",
    "    subject = input(\"Enter subject to add flashcard to: \").strip()\n",
    "    if subject not in flashcards:\n",
    "        print(\"Subject does not exist.\")\n",
    "        return\n",
    "    question = input(\"Enter the question: \").strip()\n",
    "    answer = input(\"Enter the answer: \").strip()\n",
    "    flashcards[subject].append({\"question\": question, \"answer\": answer})\n",
    "    print(\"Flashcard added.\")"
   ]
  },
  {
   "cell_type": "code",
   "execution_count": 6,
   "id": "8fe57395-cc33-4972-a4c0-2047ec15833e",
   "metadata": {},
   "outputs": [],
   "source": [
    "def study_flashcards(flashcards):\n",
    "    subject = input(\"Enter subject to study: \").strip()\n",
    "    if subject not in flashcards or not flashcards[subject]:\n",
    "        print(\"No flashcards found for this subject.\")\n",
    "        return\n",
    "    cards = flashcards[subject][:]\n",
    "    random.shuffle(cards)\n",
    "    for card in cards:\n",
    "        input(f\"Q: {card['question']} (Press Enter to see the answer) \")\n",
    "        print(f\"A: {card['answer']}\\n\")"
   ]
  },
  {
   "cell_type": "code",
   "execution_count": 7,
   "id": "29f47f77-9d29-4222-90d2-a7b2de096641",
   "metadata": {},
   "outputs": [],
   "source": [
    "def main():\n",
    "    flashcards = load_flashcards()\n",
    "\n",
    "    while True:\n",
    "        print(\"\\n--- Flashcard Menu ---\")\n",
    "        print(\"1. Create a new subject\")\n",
    "        print(\"2. Add a flashcard\")\n",
    "        print(\"3. Study flashcards\")\n",
    "        print(\"4. Exit\")\n",
    "        choice = input(\"Choose an option: \").strip()\n",
    "\n",
    "        if choice == \"1\":\n",
    "            create_subject(flashcards)\n",
    "        elif choice == \"2\":\n",
    "            add_flashcard(flashcards)\n",
    "        elif choice == \"3\":\n",
    "            study_flashcards(flashcards)\n",
    "        elif choice == \"4\":\n",
    "            save_flashcards(flashcards)\n",
    "            print(\"Goodbye!\")\n",
    "            break\n",
    "        else:\n",
    "            print(\"Invalid choice. Please enter 1–4.\")"
   ]
  },
  {
   "cell_type": "code",
   "execution_count": 8,
   "id": "fbb45e33-191a-4941-8680-6b6965a92e10",
   "metadata": {},
   "outputs": [
    {
     "name": "stdout",
     "output_type": "stream",
     "text": [
      "\n",
      "--- Flashcard Menu ---\n",
      "1. Create a new subject\n",
      "2. Add a flashcard\n",
      "3. Study flashcards\n",
      "4. Exit\n"
     ]
    },
    {
     "name": "stdin",
     "output_type": "stream",
     "text": [
      "Choose an option:  1\n",
      "Enter new subject name:  Math\n"
     ]
    },
    {
     "name": "stdout",
     "output_type": "stream",
     "text": [
      "Subject 'Math' created.\n",
      "\n",
      "--- Flashcard Menu ---\n",
      "1. Create a new subject\n",
      "2. Add a flashcard\n",
      "3. Study flashcards\n",
      "4. Exit\n"
     ]
    },
    {
     "name": "stdin",
     "output_type": "stream",
     "text": [
      "Choose an option:  2\n",
      "Enter subject to add flashcard to:  Math\n",
      "Enter the question:  Zero is the only number that can't be represented in Roman numerals.\n",
      "Enter the answer:  True\n"
     ]
    },
    {
     "name": "stdout",
     "output_type": "stream",
     "text": [
      "Flashcard added.\n",
      "\n",
      "--- Flashcard Menu ---\n",
      "1. Create a new subject\n",
      "2. Add a flashcard\n",
      "3. Study flashcards\n",
      "4. Exit\n"
     ]
    },
    {
     "name": "stdin",
     "output_type": "stream",
     "text": [
      "Choose an option:  4\n"
     ]
    },
    {
     "name": "stdout",
     "output_type": "stream",
     "text": [
      "Goodbye!\n"
     ]
    }
   ],
   "source": [
    "## if __name__ == \"__main__\":\n",
    "    main()"
   ]
  },
  {
   "cell_type": "code",
   "execution_count": null,
   "id": "da3b7480-0ab1-4ab7-b8b7-9d67244efa68",
   "metadata": {},
   "outputs": [],
   "source": []
  }
 ],
 "metadata": {
  "kernelspec": {
   "display_name": "Python 3 (ipykernel)",
   "language": "python",
   "name": "python3"
  },
  "language_info": {
   "codemirror_mode": {
    "name": "ipython",
    "version": 3
   },
   "file_extension": ".py",
   "mimetype": "text/x-python",
   "name": "python",
   "nbconvert_exporter": "python",
   "pygments_lexer": "ipython3",
   "version": "3.12.7"
  }
 },
 "nbformat": 4,
 "nbformat_minor": 5
}
