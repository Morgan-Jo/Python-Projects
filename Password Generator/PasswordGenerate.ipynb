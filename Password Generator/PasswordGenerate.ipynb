{
 "cells": [
  {
   "cell_type": "code",
   "execution_count": 1,
   "id": "7a374662-be29-4ea8-9e9d-b770326a5a25",
   "metadata": {},
   "outputs": [],
   "source": [
    "# generates strong, random passwords "
   ]
  },
  {
   "cell_type": "code",
   "execution_count": 2,
   "id": "6684a1aa-e904-4131-9c64-b0bb20a103b7",
   "metadata": {},
   "outputs": [],
   "source": [
    "import string\n",
    "import random"
   ]
  },
  {
   "cell_type": "code",
   "execution_count": 3,
   "id": "5dd36b02-3619-4024-bc34-a41e39a2f46a",
   "metadata": {},
   "outputs": [],
   "source": [
    "def generate_password(length=12, use_uppercase=True, use_digits=True, use_symbols=True):\n",
    "    \"\"\"\n",
    "    Generate a strong, random password.\n",
    "\n",
    "    Parameters:\n",
    "        length (int): Length of the password.\n",
    "        use_uppercase (bool): Include uppercase letters.\n",
    "        use_digits (bool): Include digits.\n",
    "        use_symbols (bool): Include punctuation symbols.\n",
    "\n",
    "    Returns:\n",
    "        str: The generated password.\n",
    "    \"\"\"\n",
    "    if length < 4:\n",
    "        raise ValueError(\"Password length should be at least 4 characters.\")\n",
    "\n",
    "    char_set = list(string.ascii_lowercase)\n",
    "\n",
    "    if use_uppercase:\n",
    "        char_set.extend(string.ascii_uppercase)\n",
    "    if use_digits:\n",
    "        char_set.extend(string.digits)\n",
    "    if use_symbols:\n",
    "        char_set.extend(string.punctuation)\n",
    "\n",
    "    if not char_set:\n",
    "        raise ValueError(\"No character sets selected.\")\n",
    "\n",
    "    password = ''.join(random.choice(char_set) for _ in range(length))\n",
    "    return password"
   ]
  },
  {
   "cell_type": "code",
   "execution_count": 4,
   "id": "bc4bfd4d-fd83-4cc9-8daa-6026cd3fcfa5",
   "metadata": {},
   "outputs": [
    {
     "name": "stdout",
     "output_type": "stream",
     "text": [
      "Generated password: 7mRW>y,=://j/SQT\n"
     ]
    }
   ],
   "source": [
    "if __name__ == \"__main__\":\n",
    "    print(\"Generated password:\", generate_password(length=16, use_uppercase=True, use_digits=True, use_symbols=True))\n"
   ]
  },
  {
   "cell_type": "code",
   "execution_count": 5,
   "id": "8a66162b-d413-4fe4-b2f7-33c44830c53e",
   "metadata": {},
   "outputs": [
    {
     "name": "stdout",
     "output_type": "stream",
     "text": [
      "Generated password: pJ53$!&'\n"
     ]
    }
   ],
   "source": [
    "if __name__ == \"__main__\":\n",
    "    print(\"Generated password:\", generate_password(length=8, use_uppercase=True, use_digits=True, use_symbols=True))"
   ]
  },
  {
   "cell_type": "code",
   "execution_count": null,
   "id": "06da0af6-475f-417a-ac4c-b79037ad7ac5",
   "metadata": {},
   "outputs": [],
   "source": []
  }
 ],
 "metadata": {
  "kernelspec": {
   "display_name": "Python 3 (ipykernel)",
   "language": "python",
   "name": "python3"
  },
  "language_info": {
   "codemirror_mode": {
    "name": "ipython",
    "version": 3
   },
   "file_extension": ".py",
   "mimetype": "text/x-python",
   "name": "python",
   "nbconvert_exporter": "python",
   "pygments_lexer": "ipython3",
   "version": "3.12.7"
  }
 },
 "nbformat": 4,
 "nbformat_minor": 5
}
