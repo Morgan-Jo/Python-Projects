{
 "cells": [
  {
   "cell_type": "code",
   "execution_count": 1,
   "id": "4e3304ba-c18c-458f-8bce-1084902d8882",
   "metadata": {},
   "outputs": [],
   "source": [
    "# Create a tool that can generate QR codes from text or URLs and potentially read QR codes from images (using libraries like qrcode and OpenCV)."
   ]
  },
  {
   "cell_type": "code",
   "execution_count": 5,
   "id": "60c4c3bd-1c0c-4b97-9f13-86ff8657d591",
   "metadata": {},
   "outputs": [
    {
     "name": "stdout",
     "output_type": "stream",
     "text": [
      "Collecting qrcode[pil]\n",
      "  Using cached qrcode-8.2-py3-none-any.whl.metadata (17 kB)\n",
      "Requirement already satisfied: colorama in c:\\users\\morgan tonner\\anaconda3\\lib\\site-packages (from qrcode[pil]) (0.4.6)\n",
      "Requirement already satisfied: pillow>=9.1.0 in c:\\users\\morgan tonner\\anaconda3\\lib\\site-packages (from qrcode[pil]) (10.4.0)\n",
      "Using cached qrcode-8.2-py3-none-any.whl (45 kB)\n",
      "Installing collected packages: qrcode\n",
      "Successfully installed qrcode-8.2\n"
     ]
    }
   ],
   "source": [
    "!pip install qrcode[pil]"
   ]
  },
  {
   "cell_type": "code",
   "execution_count": 7,
   "id": "82d96935-8f93-4478-b3f0-488907aa7682",
   "metadata": {},
   "outputs": [
    {
     "name": "stdout",
     "output_type": "stream",
     "text": [
      "Collecting opencv-python\n",
      "  Using cached opencv_python-4.11.0.86-cp37-abi3-win_amd64.whl.metadata (20 kB)\n",
      "Requirement already satisfied: numpy>=1.21.2 in c:\\users\\morgan tonner\\anaconda3\\lib\\site-packages (from opencv-python) (1.26.4)\n",
      "Using cached opencv_python-4.11.0.86-cp37-abi3-win_amd64.whl (39.5 MB)\n",
      "Installing collected packages: opencv-python\n",
      "Successfully installed opencv-python-4.11.0.86\n"
     ]
    }
   ],
   "source": [
    "!pip install opencv-python"
   ]
  },
  {
   "cell_type": "code",
   "execution_count": 8,
   "id": "34fe7d42-c39d-4b0b-8805-8978352e5426",
   "metadata": {},
   "outputs": [],
   "source": [
    "import qrcode\n",
    "import cv2"
   ]
  },
  {
   "cell_type": "code",
   "execution_count": 9,
   "id": "a21356e5-7b6f-4c90-b0f9-cba54dbac454",
   "metadata": {},
   "outputs": [],
   "source": [
    "def generate_qr(data: str, filename: str = \"qrcode.png\") -> None:\n",
    "    \"\"\"Generate a QR code from the given data and save it as an image.\"\"\"\n",
    "    qr = qrcode.QRCode(\n",
    "        version=1,  # Size of the QR Code (1 to 40)\n",
    "        error_correction=qrcode.constants.ERROR_CORRECT_L,\n",
    "        box_size=10,\n",
    "        border=4,\n",
    "    )\n",
    "    qr.add_data(data)\n",
    "    qr.make(fit=True)\n",
    "    \n",
    "    img = qr.make_image(fill_color=\"black\", back_color=\"white\")\n",
    "    img.save(filename)\n",
    "    print(f\"QR code saved as '{filename}'.\")"
   ]
  },
  {
   "cell_type": "code",
   "execution_count": 10,
   "id": "c2c0bb54-baeb-455d-bb68-9fb4eaf85a87",
   "metadata": {},
   "outputs": [],
   "source": [
    "def read_qr(image_path: str) -> str:\n",
    "    \"\"\"Read a QR code from the given image file.\"\"\"\n",
    "    img = cv2.imread(image_path)\n",
    "    detector = cv2.QRCodeDetector()\n",
    "    data, bbox, _ = detector.detectAndDecode(img)\n",
    "    \n",
    "    if bbox is not None and data:\n",
    "        print(f\"QR Code data: {data}\")\n",
    "        return data\n",
    "    else:\n",
    "        print(\"No QR code found.\")\n",
    "        return \"\""
   ]
  },
  {
   "cell_type": "code",
   "execution_count": 11,
   "id": "a98ae81a-7cbc-4261-9a5d-1f7e1d865163",
   "metadata": {},
   "outputs": [
    {
     "name": "stdout",
     "output_type": "stream",
     "text": [
      "QR code saved as 'example_qr.png'.\n",
      "QR Code data: https://www.example.com\n"
     ]
    }
   ],
   "source": [
    "if __name__ == \"__main__\":\n",
    "    # Generate a QR code\n",
    "    generate_qr(\"https://www.example.com\", \"example_qr.png\")\n",
    "\n",
    "    # Read the QR code from image\n",
    "    read_qr(\"example_qr.png\")"
   ]
  },
  {
   "cell_type": "code",
   "execution_count": 12,
   "id": "302e8655-aa22-4147-a45b-6b1754fa54fb",
   "metadata": {},
   "outputs": [
    {
     "name": "stdout",
     "output_type": "stream",
     "text": [
      "QR code saved as 'linkedIn_qr.png'.\n",
      "QR Code data: https://www.linkedin.com/feed/\n"
     ]
    }
   ],
   "source": [
    "if __name__ == \"__main__\":\n",
    "    # Generate a QR code\n",
    "    generate_qr(\"https://www.linkedin.com/feed/\", \"linkedIn_qr.png\")\n",
    "\n",
    "    # Read the QR code from image\n",
    "    read_qr(\"linkedIn_qr.png\")"
   ]
  },
  {
   "cell_type": "code",
   "execution_count": null,
   "id": "a1bf9550-8daa-4c05-9cf4-abbb2bd847bb",
   "metadata": {},
   "outputs": [],
   "source": []
  }
 ],
 "metadata": {
  "kernelspec": {
   "display_name": "Python 3 (ipykernel)",
   "language": "python",
   "name": "python3"
  },
  "language_info": {
   "codemirror_mode": {
    "name": "ipython",
    "version": 3
   },
   "file_extension": ".py",
   "mimetype": "text/x-python",
   "name": "python",
   "nbconvert_exporter": "python",
   "pygments_lexer": "ipython3",
   "version": "3.12.7"
  }
 },
 "nbformat": 4,
 "nbformat_minor": 5
}
